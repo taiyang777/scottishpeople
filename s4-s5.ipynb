{
 "cells": [
  {
   "cell_type": "code",
   "execution_count": 1,
   "metadata": {
    "collapsed": true
   },
   "outputs": [],
   "source": [
    "import pandas as pd\n",
    "import numpy as np\n",
    "from scipy import stats, integrate\n",
    "import matplotlib.pyplot as plt\n",
    "import seaborn as sns\n",
    "%matplotlib inline\n"
   ]
  },
  {
   "cell_type": "code",
   "execution_count": 2,
   "metadata": {},
   "outputs": [
    {
     "data": {
      "text/html": [
       "<div>\n",
       "<style>\n",
       "    .dataframe thead tr:only-child th {\n",
       "        text-align: right;\n",
       "    }\n",
       "\n",
       "    .dataframe thead th {\n",
       "        text-align: left;\n",
       "    }\n",
       "\n",
       "    .dataframe tbody tr th {\n",
       "        vertical-align: top;\n",
       "    }\n",
       "</style>\n",
       "<table border=\"1\" class=\"dataframe\">\n",
       "  <thead>\n",
       "    <tr style=\"text-align: right;\">\n",
       "      <th></th>\n",
       "      <th>publicid</th>\n",
       "      <th>rewghtcv</th>\n",
       "      <th>achievev</th>\n",
       "      <th>cohortv</th>\n",
       "      <th>leaverv</th>\n",
       "      <th>questv</th>\n",
       "      <th>versionv</th>\n",
       "      <th>frthokv</th>\n",
       "      <th>truant2v</th>\n",
       "      <th>ptjb4thv</th>\n",
       "      <th>...</th>\n",
       "      <th>addrdetl</th>\n",
       "      <th>addrelv</th>\n",
       "      <th>scotvecv</th>\n",
       "      <th>commentv</th>\n",
       "      <th>mcoderv</th>\n",
       "      <th>change1v</th>\n",
       "      <th>change2v</th>\n",
       "      <th>rday</th>\n",
       "      <th>rmonth</th>\n",
       "      <th>type</th>\n",
       "    </tr>\n",
       "  </thead>\n",
       "  <tbody>\n",
       "    <tr>\n",
       "      <th>0</th>\n",
       "      <td>100007</td>\n",
       "      <td>1.16057300567627</td>\n",
       "      <td>1</td>\n",
       "      <td>1</td>\n",
       "      <td>1</td>\n",
       "      <td>2</td>\n",
       "      <td>1</td>\n",
       "      <td>2</td>\n",
       "      <td>2</td>\n",
       "      <td>1</td>\n",
       "      <td>...</td>\n",
       "      <td>2</td>\n",
       "      <td>2</td>\n",
       "      <td>98</td>\n",
       "      <td>2</td>\n",
       "      <td>8</td>\n",
       "      <td>1</td>\n",
       "      <td>1</td>\n",
       "      <td>29</td>\n",
       "      <td>4</td>\n",
       "      <td>2</td>\n",
       "    </tr>\n",
       "    <tr>\n",
       "      <th>1</th>\n",
       "      <td>100014</td>\n",
       "      <td>.79980605840683</td>\n",
       "      <td>1</td>\n",
       "      <td>1</td>\n",
       "      <td>1</td>\n",
       "      <td>2</td>\n",
       "      <td>1</td>\n",
       "      <td>1</td>\n",
       "      <td>4</td>\n",
       "      <td>2</td>\n",
       "      <td>...</td>\n",
       "      <td>2</td>\n",
       "      <td>2</td>\n",
       "      <td>98</td>\n",
       "      <td>2</td>\n",
       "      <td>6</td>\n",
       "      <td>1</td>\n",
       "      <td>1</td>\n",
       "      <td>11</td>\n",
       "      <td>4</td>\n",
       "      <td>2</td>\n",
       "    </tr>\n",
       "    <tr>\n",
       "      <th>2</th>\n",
       "      <td>100021</td>\n",
       "      <td>1.11099815368653</td>\n",
       "      <td>1</td>\n",
       "      <td>1</td>\n",
       "      <td>1</td>\n",
       "      <td>2</td>\n",
       "      <td>1</td>\n",
       "      <td>2</td>\n",
       "      <td>1</td>\n",
       "      <td>2</td>\n",
       "      <td>...</td>\n",
       "      <td>2</td>\n",
       "      <td>2</td>\n",
       "      <td>98</td>\n",
       "      <td>2</td>\n",
       "      <td>6</td>\n",
       "      <td>0</td>\n",
       "      <td>0</td>\n",
       "      <td>11</td>\n",
       "      <td>4</td>\n",
       "      <td>2</td>\n",
       "    </tr>\n",
       "    <tr>\n",
       "      <th>3</th>\n",
       "      <td>100028</td>\n",
       "      <td>1.11099815368653</td>\n",
       "      <td>1</td>\n",
       "      <td>1</td>\n",
       "      <td>1</td>\n",
       "      <td>2</td>\n",
       "      <td>2</td>\n",
       "      <td>1</td>\n",
       "      <td>1</td>\n",
       "      <td>2</td>\n",
       "      <td>...</td>\n",
       "      <td>2</td>\n",
       "      <td>2</td>\n",
       "      <td>2</td>\n",
       "      <td>1</td>\n",
       "      <td>4</td>\n",
       "      <td>1</td>\n",
       "      <td>0</td>\n",
       "      <td>2</td>\n",
       "      <td>4</td>\n",
       "      <td>2</td>\n",
       "    </tr>\n",
       "    <tr>\n",
       "      <th>4</th>\n",
       "      <td>100035</td>\n",
       "      <td>1.11099815368653</td>\n",
       "      <td>1</td>\n",
       "      <td>1</td>\n",
       "      <td>1</td>\n",
       "      <td>2</td>\n",
       "      <td>1</td>\n",
       "      <td>1</td>\n",
       "      <td>3</td>\n",
       "      <td>2</td>\n",
       "      <td>...</td>\n",
       "      <td>2</td>\n",
       "      <td>2</td>\n",
       "      <td>1</td>\n",
       "      <td>1</td>\n",
       "      <td>1</td>\n",
       "      <td>0</td>\n",
       "      <td>0</td>\n",
       "      <td>28</td>\n",
       "      <td>3</td>\n",
       "      <td>2</td>\n",
       "    </tr>\n",
       "  </tbody>\n",
       "</table>\n",
       "<p>5 rows × 254 columns</p>\n",
       "</div>"
      ],
      "text/plain": [
       "   publicid          rewghtcv  achievev  cohortv  leaverv  questv  versionv  \\\n",
       "0    100007  1.16057300567627         1        1        1       2         1   \n",
       "1    100014   .79980605840683         1        1        1       2         1   \n",
       "2    100021  1.11099815368653         1        1        1       2         1   \n",
       "3    100028  1.11099815368653         1        1        1       2         2   \n",
       "4    100035  1.11099815368653         1        1        1       2         1   \n",
       "\n",
       "   frthokv  truant2v  ptjb4thv  ...   addrdetl  addrelv  scotvecv  commentv  \\\n",
       "0        2         2         1  ...          2        2        98         2   \n",
       "1        1         4         2  ...          2        2        98         2   \n",
       "2        2         1         2  ...          2        2        98         2   \n",
       "3        1         1         2  ...          2        2         2         1   \n",
       "4        1         3         2  ...          2        2         1         1   \n",
       "\n",
       "   mcoderv  change1v  change2v  rday  rmonth  type  \n",
       "0        8         1         1    29       4     2  \n",
       "1        6         1         1    11       4     2  \n",
       "2        6         0         0    11       4     2  \n",
       "3        4         1         0     2       4     2  \n",
       "4        1         0         0    28       3     2  \n",
       "\n",
       "[5 rows x 254 columns]"
      ]
     },
     "execution_count": 2,
     "metadata": {},
     "output_type": "execute_result"
    }
   ],
   "source": [
    "Maindata = pd.read_csv('SYPS cohort83_4_sweep1.csv')# This is main database\n",
    "Sub1 = pd.read_csv('rec36_scesubj2.csv')  # The following are Sub-database\n",
    "Sub2= pd.read_csv('rec40_scesbjq.csv')\n",
    "Sub3= pd.read_csv('rec42_othrsubj.csv')\n",
    "Sub4= pd.read_csv('rec43_schlqual.csv')\n",
    "Sub5= pd.read_csv('rec44_modschl.csv')\n",
    "Maindata.head()"
   ]
  },
  {
   "cell_type": "markdown",
   "metadata": {},
   "source": [
    "# s4"
   ]
  },
  {
   "cell_type": "markdown",
   "metadata": {},
   "source": [
    "Whether fourth year was worthwhile"
   ]
  },
  {
   "cell_type": "code",
   "execution_count": 3,
   "metadata": {},
   "outputs": [
    {
     "data": {
      "text/plain": [
       "1     4770\n",
       "2     1600\n",
       "99     131\n",
       "Name: frthokv, dtype: int64"
      ]
     },
     "execution_count": 3,
     "metadata": {},
     "output_type": "execute_result"
    }
   ],
   "source": [
    "Achievedata=Maindata[Maindata['achievev']==1]  #people who achieved questionnaire\n",
    "Achievedata['frthokv'].value_counts()"
   ]
  },
  {
   "cell_type": "markdown",
   "metadata": {},
   "source": [
    "1-Yes\n",
    "2-NO"
   ]
  },
  {
   "cell_type": "markdown",
   "metadata": {},
   "source": [
    "How often played truant"
   ]
  },
  {
   "cell_type": "code",
   "execution_count": 4,
   "metadata": {},
   "outputs": [
    {
     "data": {
      "text/plain": [
       "1     2981\n",
       "2     1806\n",
       "3     1172\n",
       "4      271\n",
       "5      166\n",
       "99     105\n",
       "Name: truant2v, dtype: int64"
      ]
     },
     "execution_count": 4,
     "metadata": {},
     "output_type": "execute_result"
    }
   ],
   "source": [
    "Achievedata['truant2v'].value_counts()"
   ]
  },
  {
   "cell_type": "markdown",
   "metadata": {},
   "source": [
    "1-Never<br>\n",
    "2-A lesson here and there<br>\n",
    "3-A day here and there<br>\n",
    "4-Several days at a time<br>\n",
    "5-Weeks at a time<br>"
   ]
  },
  {
   "cell_type": "markdown",
   "metadata": {},
   "source": [
    "Grade"
   ]
  },
  {
   "cell_type": "code",
   "execution_count": 10,
   "metadata": {},
   "outputs": [
    {
     "data": {
      "text/plain": [
       "9     24612\n",
       "1      9071\n",
       "3      6473\n",
       "2      5257\n",
       "4      4380\n",
       "8      3332\n",
       "96     3105\n",
       "5      2787\n",
       "6      2145\n",
       "7       754\n",
       "Name: subj4ov, dtype: int64"
      ]
     },
     "execution_count": 10,
     "metadata": {},
     "output_type": "execute_result"
    }
   ],
   "source": [
    "Sub1['subj4ov'].value_counts()"
   ]
  },
  {
   "cell_type": "markdown",
   "metadata": {},
   "source": [
    "1-A<br>\n",
    "2-B<br>\n",
    "3-C<br>\n",
    "4-D<br>\n",
    "5-E<br>\n",
    "6-SAT,No award<br>\n",
    "7-SAT,No info<br>\n",
    "8-prelim only<br>\n",
    "9-did not sit 0 grade<br>\n"
   ]
  },
  {
   "cell_type": "markdown",
   "metadata": {},
   "source": [
    "The relationship between taunt and grade?"
   ]
  },
  {
   "cell_type": "markdown",
   "metadata": {},
   "source": [
    "# S5"
   ]
  },
  {
   "cell_type": "markdown",
   "metadata": {},
   "source": [
    "Did your parents want you stay for another year?"
   ]
  },
  {
   "cell_type": "code",
   "execution_count": 11,
   "metadata": {},
   "outputs": [
    {
     "data": {
      "text/plain": [
       "98    3589\n",
       "1     2035\n",
       "2      724\n",
       "99     153\n",
       "Name: s4s5pryv, dtype: int64"
      ]
     },
     "execution_count": 11,
     "metadata": {},
     "output_type": "execute_result"
    }
   ],
   "source": [
    "Achievedata['s4s5pryv'].value_counts()"
   ]
  },
  {
   "cell_type": "markdown",
   "metadata": {},
   "source": [
    "1-Yes\n",
    "2-No"
   ]
  },
  {
   "cell_type": "markdown",
   "metadata": {},
   "source": [
    "Did your parents want you leave school?"
   ]
  },
  {
   "cell_type": "code",
   "execution_count": 12,
   "metadata": {},
   "outputs": [
    {
     "data": {
      "text/plain": [
       "98    3589\n",
       "2     2162\n",
       "1      523\n",
       "99     227\n",
       "Name: s4s5prnv, dtype: int64"
      ]
     },
     "execution_count": 12,
     "metadata": {},
     "output_type": "execute_result"
    }
   ],
   "source": [
    "Achievedata['s4s5prnv'].value_counts()"
   ]
  },
  {
   "cell_type": "markdown",
   "metadata": {},
   "source": [
    "Did your teacher want you stay for another year?"
   ]
  },
  {
   "cell_type": "code",
   "execution_count": 13,
   "metadata": {},
   "outputs": [
    {
     "data": {
      "text/plain": [
       "98    3589\n",
       "2     1444\n",
       "1     1338\n",
       "99     130\n",
       "Name: s4s5tcyv, dtype: int64"
      ]
     },
     "execution_count": 13,
     "metadata": {},
     "output_type": "execute_result"
    }
   ],
   "source": [
    "Achievedata['s4s5tcyv'].value_counts()"
   ]
  },
  {
   "cell_type": "markdown",
   "metadata": {},
   "source": [
    "Did your teacher want you leave school?"
   ]
  },
  {
   "cell_type": "code",
   "execution_count": 14,
   "metadata": {},
   "outputs": [
    {
     "data": {
      "text/plain": [
       "98    3589\n",
       "2     2610\n",
       "1      178\n",
       "99     124\n",
       "Name: s4s5tcnv, dtype: int64"
      ]
     },
     "execution_count": 14,
     "metadata": {},
     "output_type": "execute_result"
    }
   ],
   "source": [
    "Achievedata['s4s5tcnv'].value_counts()"
   ]
  },
  {
   "cell_type": "markdown",
   "metadata": {},
   "source": [
    "Did you start fifth year at school?"
   ]
  },
  {
   "cell_type": "code",
   "execution_count": 15,
   "metadata": {},
   "outputs": [
    {
     "data": {
      "text/plain": [
       "1     3987\n",
       "2     1811\n",
       "98     603\n",
       "99     100\n",
       "Name: start5v, dtype: int64"
      ]
     },
     "execution_count": 15,
     "metadata": {},
     "output_type": "execute_result"
    }
   ],
   "source": [
    "Achievedata['start5v'].value_counts()"
   ]
  },
  {
   "cell_type": "markdown",
   "metadata": {},
   "source": [
    "If passed modules in college or school?"
   ]
  },
  {
   "cell_type": "code",
   "execution_count": 21,
   "metadata": {},
   "outputs": [
    {
     "data": {
      "text/plain": [
       "99    4593\n",
       "1      969\n",
       "2      939\n",
       "Name: passmdcv, dtype: int64"
      ]
     },
     "execution_count": 21,
     "metadata": {},
     "output_type": "execute_result"
    }
   ],
   "source": [
    "Achievedata['passmdcv'].value_counts()"
   ]
  },
  {
   "cell_type": "code",
   "execution_count": 22,
   "metadata": {},
   "outputs": [
    {
     "data": {
      "text/plain": [
       "99    3186\n",
       "2     1942\n",
       "1     1373\n",
       "Name: passmdsv, dtype: int64"
      ]
     },
     "execution_count": 22,
     "metadata": {},
     "output_type": "execute_result"
    }
   ],
   "source": [
    "Achievedata['passmdsv'].value_counts()"
   ]
  },
  {
   "cell_type": "code",
   "execution_count": null,
   "metadata": {
    "collapsed": true
   },
   "outputs": [],
   "source": []
  },
  {
   "cell_type": "code",
   "execution_count": 23,
   "metadata": {},
   "outputs": [
    {
     "data": {
      "text/html": [
       "<div>\n",
       "<style>\n",
       "    .dataframe thead tr:only-child th {\n",
       "        text-align: right;\n",
       "    }\n",
       "\n",
       "    .dataframe thead th {\n",
       "        text-align: left;\n",
       "    }\n",
       "\n",
       "    .dataframe tbody tr th {\n",
       "        vertical-align: top;\n",
       "    }\n",
       "</style>\n",
       "<table border=\"1\" class=\"dataframe\">\n",
       "  <thead>\n",
       "    <tr style=\"text-align: right;\">\n",
       "      <th></th>\n",
       "      <th>publicid</th>\n",
       "      <th>rewghtcv</th>\n",
       "      <th>achievev</th>\n",
       "      <th>cohortv</th>\n",
       "      <th>leaverv</th>\n",
       "      <th>questv</th>\n",
       "      <th>versionv</th>\n",
       "      <th>frthokv</th>\n",
       "      <th>truant2v</th>\n",
       "      <th>ptjb4thv</th>\n",
       "      <th>...</th>\n",
       "      <th>addrdetl</th>\n",
       "      <th>addrelv</th>\n",
       "      <th>scotvecv</th>\n",
       "      <th>commentv</th>\n",
       "      <th>mcoderv</th>\n",
       "      <th>change1v</th>\n",
       "      <th>change2v</th>\n",
       "      <th>rday</th>\n",
       "      <th>rmonth</th>\n",
       "      <th>type</th>\n",
       "    </tr>\n",
       "  </thead>\n",
       "  <tbody>\n",
       "  </tbody>\n",
       "</table>\n",
       "<p>0 rows × 254 columns</p>\n",
       "</div>"
      ],
      "text/plain": [
       "Empty DataFrame\n",
       "Columns: [publicid, rewghtcv, achievev, cohortv, leaverv, questv, versionv, frthokv, truant2v, ptjb4thv, vocexamv, howstd1v, howstd2v, howstd3v, howstd4v, howstd5v, wkextryv, linkcrsv, sitogrdv, tot4oacv, tot4oaev, tot4oatv, tot4odev, tot4odnv, tot4onkv, tot4ostv, tot4scpv, totoacv, totoaev, totoatv, totodev, totodnv, totonkv, totostv, s4s5pryv, s4s5tcnv, s4s5jobv, s4s5tcyv, s4s5prnv, s5frendv, burs5knv, bur5appv, start5v, y5th1v, y5th2v, y5th3v, y5th4v, y5th5v, y5th6v, y5th7v, y5th8v, y5th9v, y5th10v, y5thmv, passmdcv, passmdsv, nmdcompv, reflct5v, guid5thv, lookjobv, thnklevv, plandstv, jobfix2v, intend6v, courseqv, apunivqv, apceddqv, apcedtqv, apcedoqv, apdfeqv, apafeqv, apofeqv, apnursqv, apothrqv, qulmstqv, submstqv, instmqv, twnstayv, regdstyv, leftschv, mthleftv, yrleftv, trmlftrv, leavrtv, par5thv, tch5thv, ysclv1v, ysclv2v, ysclv3v, ysclv4v, ysclv5v, ysclv6v, ysclv7v, ysclv8v, ysclv9v, ysclvmv, jobfixdv, dooctv, donowv, ifjbytsv, ...]\n",
       "Index: []\n",
       "\n",
       "[0 rows x 254 columns]"
      ]
     },
     "execution_count": 23,
     "metadata": {},
     "output_type": "execute_result"
    }
   ],
   "source": [
    "Achievedata[(Achievedata['s4s5prnv']==1)&(Achievedata['s4s5tcnv']==1)&(Achievedata['start5v']==0)]  # leave leave leave"
   ]
  },
  {
   "cell_type": "code",
   "execution_count": 25,
   "metadata": {},
   "outputs": [
    {
     "data": {
      "text/plain": [
       "(24, 254)"
      ]
     },
     "execution_count": 25,
     "metadata": {},
     "output_type": "execute_result"
    }
   ],
   "source": [
    "Achievedata[(Achievedata['s4s5prnv']==1)&(Achievedata['s4s5tcnv']==1)&(Achievedata['start5v']==1)].shape # leave leave stay"
   ]
  },
  {
   "cell_type": "code",
   "execution_count": 26,
   "metadata": {},
   "outputs": [
    {
     "data": {
      "text/html": [
       "<div>\n",
       "<style>\n",
       "    .dataframe thead tr:only-child th {\n",
       "        text-align: right;\n",
       "    }\n",
       "\n",
       "    .dataframe thead th {\n",
       "        text-align: left;\n",
       "    }\n",
       "\n",
       "    .dataframe tbody tr th {\n",
       "        vertical-align: top;\n",
       "    }\n",
       "</style>\n",
       "<table border=\"1\" class=\"dataframe\">\n",
       "  <thead>\n",
       "    <tr style=\"text-align: right;\">\n",
       "      <th></th>\n",
       "      <th>publicid</th>\n",
       "      <th>rewghtcv</th>\n",
       "      <th>achievev</th>\n",
       "      <th>cohortv</th>\n",
       "      <th>leaverv</th>\n",
       "      <th>questv</th>\n",
       "      <th>versionv</th>\n",
       "      <th>frthokv</th>\n",
       "      <th>truant2v</th>\n",
       "      <th>ptjb4thv</th>\n",
       "      <th>...</th>\n",
       "      <th>addrdetl</th>\n",
       "      <th>addrelv</th>\n",
       "      <th>scotvecv</th>\n",
       "      <th>commentv</th>\n",
       "      <th>mcoderv</th>\n",
       "      <th>change1v</th>\n",
       "      <th>change2v</th>\n",
       "      <th>rday</th>\n",
       "      <th>rmonth</th>\n",
       "      <th>type</th>\n",
       "    </tr>\n",
       "  </thead>\n",
       "  <tbody>\n",
       "  </tbody>\n",
       "</table>\n",
       "<p>0 rows × 254 columns</p>\n",
       "</div>"
      ],
      "text/plain": [
       "Empty DataFrame\n",
       "Columns: [publicid, rewghtcv, achievev, cohortv, leaverv, questv, versionv, frthokv, truant2v, ptjb4thv, vocexamv, howstd1v, howstd2v, howstd3v, howstd4v, howstd5v, wkextryv, linkcrsv, sitogrdv, tot4oacv, tot4oaev, tot4oatv, tot4odev, tot4odnv, tot4onkv, tot4ostv, tot4scpv, totoacv, totoaev, totoatv, totodev, totodnv, totonkv, totostv, s4s5pryv, s4s5tcnv, s4s5jobv, s4s5tcyv, s4s5prnv, s5frendv, burs5knv, bur5appv, start5v, y5th1v, y5th2v, y5th3v, y5th4v, y5th5v, y5th6v, y5th7v, y5th8v, y5th9v, y5th10v, y5thmv, passmdcv, passmdsv, nmdcompv, reflct5v, guid5thv, lookjobv, thnklevv, plandstv, jobfix2v, intend6v, courseqv, apunivqv, apceddqv, apcedtqv, apcedoqv, apdfeqv, apafeqv, apofeqv, apnursqv, apothrqv, qulmstqv, submstqv, instmqv, twnstayv, regdstyv, leftschv, mthleftv, yrleftv, trmlftrv, leavrtv, par5thv, tch5thv, ysclv1v, ysclv2v, ysclv3v, ysclv4v, ysclv5v, ysclv6v, ysclv7v, ysclv8v, ysclv9v, ysclvmv, jobfixdv, dooctv, donowv, ifjbytsv, ...]\n",
       "Index: []\n",
       "\n",
       "[0 rows x 254 columns]"
      ]
     },
     "execution_count": 26,
     "metadata": {},
     "output_type": "execute_result"
    }
   ],
   "source": [
    "Achievedata[(Achievedata['s4s5pryv']==1)&(Achievedata['s4s5tcyv']==1)&(Achievedata['start5v']==0)] #stay stay leave"
   ]
  },
  {
   "cell_type": "code",
   "execution_count": 28,
   "metadata": {},
   "outputs": [
    {
     "data": {
      "text/plain": [
       "(988, 254)"
      ]
     },
     "execution_count": 28,
     "metadata": {},
     "output_type": "execute_result"
    }
   ],
   "source": [
    "Achievedata[(Achievedata['s4s5pryv']==1)&(Achievedata['s4s5tcyv']==1)&(Achievedata['start5v']==1)].shape #stay stay stay"
   ]
  },
  {
   "cell_type": "code",
   "execution_count": null,
   "metadata": {
    "collapsed": true
   },
   "outputs": [],
   "source": []
  }
 ],
 "metadata": {
  "kernelspec": {
   "display_name": "Python 3",
   "language": "python",
   "name": "python3"
  },
  "language_info": {
   "codemirror_mode": {
    "name": "ipython",
    "version": 3
   },
   "file_extension": ".py",
   "mimetype": "text/x-python",
   "name": "python",
   "nbconvert_exporter": "python",
   "pygments_lexer": "ipython3",
   "version": "3.6.2"
  }
 },
 "nbformat": 4,
 "nbformat_minor": 2
}
