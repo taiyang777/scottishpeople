{
 "cells": [
  {
   "cell_type": "code",
   "execution_count": 118,
   "metadata": {
    "collapsed": true
   },
   "outputs": [],
   "source": [
    "import pandas as pd\n",
    "import numpy as np\n",
    "%matplotlib inline\n",
    "import numpy as np\n",
    "import seaborn as sns\n",
    "import matplotlib.pyplot as plt\n",
    "import matplotlib.mlab as mlab\n",
    "\n",
    "data = pd.read_csv(\"SYPS cohort83_4_sweep1.csv\")\n",
    "file1 = pd.read_csv(\"rec36_scesubj2.csv\")\n",
    "file2 = pd.read_csv(\"rec40_scesbjq.csv\")\n",
    "file3 = pd.read_csv(\"rec42_othrsubj.csv\")\n",
    "file4 = pd.read_csv(\"rec43_schlqual.csv\")\n",
    "file5= pd.read_csv(\"rec44_modschl.csv\")"
   ]
  },
  {
   "cell_type": "code",
   "execution_count": 119,
   "metadata": {},
   "outputs": [
    {
     "data": {
      "text/html": [
       "<div>\n",
       "<style>\n",
       "    .dataframe thead tr:only-child th {\n",
       "        text-align: right;\n",
       "    }\n",
       "\n",
       "    .dataframe thead th {\n",
       "        text-align: left;\n",
       "    }\n",
       "\n",
       "    .dataframe tbody tr th {\n",
       "        vertical-align: top;\n",
       "    }\n",
       "</style>\n",
       "<table border=\"1\" class=\"dataframe\">\n",
       "  <thead>\n",
       "    <tr style=\"text-align: right;\">\n",
       "      <th></th>\n",
       "      <th>publicid</th>\n",
       "      <th>rewghtcv</th>\n",
       "      <th>achievev</th>\n",
       "      <th>cohortv</th>\n",
       "      <th>leaverv</th>\n",
       "      <th>questv</th>\n",
       "      <th>versionv</th>\n",
       "      <th>frthokv</th>\n",
       "      <th>truant2v</th>\n",
       "      <th>ptjb4thv</th>\n",
       "      <th>...</th>\n",
       "      <th>addrdetl</th>\n",
       "      <th>addrelv</th>\n",
       "      <th>scotvecv</th>\n",
       "      <th>commentv</th>\n",
       "      <th>mcoderv</th>\n",
       "      <th>change1v</th>\n",
       "      <th>change2v</th>\n",
       "      <th>rday</th>\n",
       "      <th>rmonth</th>\n",
       "      <th>type</th>\n",
       "    </tr>\n",
       "  </thead>\n",
       "  <tbody>\n",
       "    <tr>\n",
       "      <th>0</th>\n",
       "      <td>100007</td>\n",
       "      <td>1.16057300567627</td>\n",
       "      <td>1</td>\n",
       "      <td>1</td>\n",
       "      <td>1</td>\n",
       "      <td>2</td>\n",
       "      <td>1</td>\n",
       "      <td>2</td>\n",
       "      <td>2</td>\n",
       "      <td>1</td>\n",
       "      <td>...</td>\n",
       "      <td>2</td>\n",
       "      <td>2</td>\n",
       "      <td>98</td>\n",
       "      <td>2</td>\n",
       "      <td>8</td>\n",
       "      <td>1</td>\n",
       "      <td>1</td>\n",
       "      <td>29</td>\n",
       "      <td>4</td>\n",
       "      <td>2</td>\n",
       "    </tr>\n",
       "    <tr>\n",
       "      <th>1</th>\n",
       "      <td>100014</td>\n",
       "      <td>.79980605840683</td>\n",
       "      <td>1</td>\n",
       "      <td>1</td>\n",
       "      <td>1</td>\n",
       "      <td>2</td>\n",
       "      <td>1</td>\n",
       "      <td>1</td>\n",
       "      <td>4</td>\n",
       "      <td>2</td>\n",
       "      <td>...</td>\n",
       "      <td>2</td>\n",
       "      <td>2</td>\n",
       "      <td>98</td>\n",
       "      <td>2</td>\n",
       "      <td>6</td>\n",
       "      <td>1</td>\n",
       "      <td>1</td>\n",
       "      <td>11</td>\n",
       "      <td>4</td>\n",
       "      <td>2</td>\n",
       "    </tr>\n",
       "    <tr>\n",
       "      <th>2</th>\n",
       "      <td>100021</td>\n",
       "      <td>1.11099815368653</td>\n",
       "      <td>1</td>\n",
       "      <td>1</td>\n",
       "      <td>1</td>\n",
       "      <td>2</td>\n",
       "      <td>1</td>\n",
       "      <td>2</td>\n",
       "      <td>1</td>\n",
       "      <td>2</td>\n",
       "      <td>...</td>\n",
       "      <td>2</td>\n",
       "      <td>2</td>\n",
       "      <td>98</td>\n",
       "      <td>2</td>\n",
       "      <td>6</td>\n",
       "      <td>0</td>\n",
       "      <td>0</td>\n",
       "      <td>11</td>\n",
       "      <td>4</td>\n",
       "      <td>2</td>\n",
       "    </tr>\n",
       "    <tr>\n",
       "      <th>3</th>\n",
       "      <td>100028</td>\n",
       "      <td>1.11099815368653</td>\n",
       "      <td>1</td>\n",
       "      <td>1</td>\n",
       "      <td>1</td>\n",
       "      <td>2</td>\n",
       "      <td>2</td>\n",
       "      <td>1</td>\n",
       "      <td>1</td>\n",
       "      <td>2</td>\n",
       "      <td>...</td>\n",
       "      <td>2</td>\n",
       "      <td>2</td>\n",
       "      <td>2</td>\n",
       "      <td>1</td>\n",
       "      <td>4</td>\n",
       "      <td>1</td>\n",
       "      <td>0</td>\n",
       "      <td>2</td>\n",
       "      <td>4</td>\n",
       "      <td>2</td>\n",
       "    </tr>\n",
       "    <tr>\n",
       "      <th>4</th>\n",
       "      <td>100035</td>\n",
       "      <td>1.11099815368653</td>\n",
       "      <td>1</td>\n",
       "      <td>1</td>\n",
       "      <td>1</td>\n",
       "      <td>2</td>\n",
       "      <td>1</td>\n",
       "      <td>1</td>\n",
       "      <td>3</td>\n",
       "      <td>2</td>\n",
       "      <td>...</td>\n",
       "      <td>2</td>\n",
       "      <td>2</td>\n",
       "      <td>1</td>\n",
       "      <td>1</td>\n",
       "      <td>1</td>\n",
       "      <td>0</td>\n",
       "      <td>0</td>\n",
       "      <td>28</td>\n",
       "      <td>3</td>\n",
       "      <td>2</td>\n",
       "    </tr>\n",
       "  </tbody>\n",
       "</table>\n",
       "<p>5 rows × 254 columns</p>\n",
       "</div>"
      ],
      "text/plain": [
       "   publicid          rewghtcv  achievev  cohortv  leaverv  questv  versionv  \\\n",
       "0    100007  1.16057300567627         1        1        1       2         1   \n",
       "1    100014   .79980605840683         1        1        1       2         1   \n",
       "2    100021  1.11099815368653         1        1        1       2         1   \n",
       "3    100028  1.11099815368653         1        1        1       2         2   \n",
       "4    100035  1.11099815368653         1        1        1       2         1   \n",
       "\n",
       "   frthokv  truant2v  ptjb4thv  ...   addrdetl  addrelv  scotvecv  commentv  \\\n",
       "0        2         2         1  ...          2        2        98         2   \n",
       "1        1         4         2  ...          2        2        98         2   \n",
       "2        2         1         2  ...          2        2        98         2   \n",
       "3        1         1         2  ...          2        2         2         1   \n",
       "4        1         3         2  ...          2        2         1         1   \n",
       "\n",
       "   mcoderv  change1v  change2v  rday  rmonth  type  \n",
       "0        8         1         1    29       4     2  \n",
       "1        6         1         1    11       4     2  \n",
       "2        6         0         0    11       4     2  \n",
       "3        4         1         0     2       4     2  \n",
       "4        1         0         0    28       3     2  \n",
       "\n",
       "[5 rows x 254 columns]"
      ]
     },
     "execution_count": 119,
     "metadata": {},
     "output_type": "execute_result"
    }
   ],
   "source": [
    "data.head()"
   ]
  },
  {
   "cell_type": "code",
   "execution_count": 120,
   "metadata": {},
   "outputs": [
    {
     "data": {
      "text/html": [
       "<div>\n",
       "<style>\n",
       "    .dataframe thead tr:only-child th {\n",
       "        text-align: right;\n",
       "    }\n",
       "\n",
       "    .dataframe thead th {\n",
       "        text-align: left;\n",
       "    }\n",
       "\n",
       "    .dataframe tbody tr th {\n",
       "        vertical-align: top;\n",
       "    }\n",
       "</style>\n",
       "<table border=\"1\" class=\"dataframe\">\n",
       "  <thead>\n",
       "    <tr style=\"text-align: right;\">\n",
       "      <th></th>\n",
       "      <th>publicid</th>\n",
       "      <th>subjnov</th>\n",
       "      <th>subj4ov</th>\n",
       "      <th>subj3std</th>\n",
       "      <th>subj4std</th>\n",
       "      <th>subj5std</th>\n",
       "    </tr>\n",
       "  </thead>\n",
       "  <tbody>\n",
       "    <tr>\n",
       "      <th>0</th>\n",
       "      <td>100007</td>\n",
       "      <td>1</td>\n",
       "      <td>9</td>\n",
       "      <td>5</td>\n",
       "      <td>5</td>\n",
       "      <td>98</td>\n",
       "    </tr>\n",
       "    <tr>\n",
       "      <th>1</th>\n",
       "      <td>100007</td>\n",
       "      <td>14</td>\n",
       "      <td>9</td>\n",
       "      <td>5</td>\n",
       "      <td>5</td>\n",
       "      <td>98</td>\n",
       "    </tr>\n",
       "    <tr>\n",
       "      <th>2</th>\n",
       "      <td>100007</td>\n",
       "      <td>16</td>\n",
       "      <td>9</td>\n",
       "      <td>5</td>\n",
       "      <td>5</td>\n",
       "      <td>98</td>\n",
       "    </tr>\n",
       "    <tr>\n",
       "      <th>3</th>\n",
       "      <td>100007</td>\n",
       "      <td>33</td>\n",
       "      <td>9</td>\n",
       "      <td>5</td>\n",
       "      <td>5</td>\n",
       "      <td>98</td>\n",
       "    </tr>\n",
       "    <tr>\n",
       "      <th>4</th>\n",
       "      <td>100007</td>\n",
       "      <td>41</td>\n",
       "      <td>9</td>\n",
       "      <td>5</td>\n",
       "      <td>5</td>\n",
       "      <td>98</td>\n",
       "    </tr>\n",
       "  </tbody>\n",
       "</table>\n",
       "</div>"
      ],
      "text/plain": [
       "   publicid  subjnov  subj4ov  subj3std  subj4std  subj5std\n",
       "0    100007        1        9         5         5        98\n",
       "1    100007       14        9         5         5        98\n",
       "2    100007       16        9         5         5        98\n",
       "3    100007       33        9         5         5        98\n",
       "4    100007       41        9         5         5        98"
      ]
     },
     "execution_count": 120,
     "metadata": {},
     "output_type": "execute_result"
    }
   ],
   "source": [
    "file1.head()"
   ]
  },
  {
   "cell_type": "code",
   "execution_count": 121,
   "metadata": {},
   "outputs": [
    {
     "data": {
      "text/html": [
       "<div>\n",
       "<style>\n",
       "    .dataframe thead tr:only-child th {\n",
       "        text-align: right;\n",
       "    }\n",
       "\n",
       "    .dataframe thead th {\n",
       "        text-align: left;\n",
       "    }\n",
       "\n",
       "    .dataframe tbody tr th {\n",
       "        vertical-align: top;\n",
       "    }\n",
       "</style>\n",
       "<table border=\"1\" class=\"dataframe\">\n",
       "  <thead>\n",
       "    <tr style=\"text-align: right;\">\n",
       "      <th></th>\n",
       "      <th>publicid</th>\n",
       "      <th>subjnov</th>\n",
       "      <th>studl5v</th>\n",
       "      <th>studl5ov</th>\n",
       "      <th>studl5hv</th>\n",
       "      <th>std5othv</th>\n",
       "      <th>stdqulv</th>\n",
       "    </tr>\n",
       "  </thead>\n",
       "  <tbody>\n",
       "    <tr>\n",
       "      <th>0</th>\n",
       "      <td>100063</td>\n",
       "      <td>1</td>\n",
       "      <td>1</td>\n",
       "      <td>1</td>\n",
       "      <td>2</td>\n",
       "      <td>2</td>\n",
       "      <td>999</td>\n",
       "    </tr>\n",
       "    <tr>\n",
       "      <th>1</th>\n",
       "      <td>100063</td>\n",
       "      <td>13</td>\n",
       "      <td>1</td>\n",
       "      <td>1</td>\n",
       "      <td>2</td>\n",
       "      <td>2</td>\n",
       "      <td>999</td>\n",
       "    </tr>\n",
       "    <tr>\n",
       "      <th>2</th>\n",
       "      <td>100063</td>\n",
       "      <td>14</td>\n",
       "      <td>1</td>\n",
       "      <td>1</td>\n",
       "      <td>2</td>\n",
       "      <td>2</td>\n",
       "      <td>999</td>\n",
       "    </tr>\n",
       "    <tr>\n",
       "      <th>3</th>\n",
       "      <td>100063</td>\n",
       "      <td>50</td>\n",
       "      <td>1</td>\n",
       "      <td>1</td>\n",
       "      <td>2</td>\n",
       "      <td>2</td>\n",
       "      <td>999</td>\n",
       "    </tr>\n",
       "    <tr>\n",
       "      <th>4</th>\n",
       "      <td>100063</td>\n",
       "      <td>62</td>\n",
       "      <td>1</td>\n",
       "      <td>2</td>\n",
       "      <td>2</td>\n",
       "      <td>2</td>\n",
       "      <td>999</td>\n",
       "    </tr>\n",
       "  </tbody>\n",
       "</table>\n",
       "</div>"
      ],
      "text/plain": [
       "   publicid  subjnov  studl5v  studl5ov  studl5hv  std5othv  stdqulv\n",
       "0    100063        1        1         1         2         2      999\n",
       "1    100063       13        1         1         2         2      999\n",
       "2    100063       14        1         1         2         2      999\n",
       "3    100063       50        1         1         2         2      999\n",
       "4    100063       62        1         2         2         2      999"
      ]
     },
     "execution_count": 121,
     "metadata": {},
     "output_type": "execute_result"
    }
   ],
   "source": [
    "file2.head()"
   ]
  },
  {
   "cell_type": "code",
   "execution_count": 122,
   "metadata": {},
   "outputs": [
    {
     "data": {
      "text/html": [
       "<div>\n",
       "<style>\n",
       "    .dataframe thead tr:only-child th {\n",
       "        text-align: right;\n",
       "    }\n",
       "\n",
       "    .dataframe thead th {\n",
       "        text-align: left;\n",
       "    }\n",
       "\n",
       "    .dataframe tbody tr th {\n",
       "        vertical-align: top;\n",
       "    }\n",
       "</style>\n",
       "<table border=\"1\" class=\"dataframe\">\n",
       "  <thead>\n",
       "    <tr style=\"text-align: right;\">\n",
       "      <th></th>\n",
       "      <th>publicid</th>\n",
       "      <th>subjectv</th>\n",
       "      <th>otsbqulv</th>\n",
       "      <th>otsbgrdv</th>\n",
       "      <th>otsb5yrv</th>\n",
       "    </tr>\n",
       "  </thead>\n",
       "  <tbody>\n",
       "    <tr>\n",
       "      <th>0</th>\n",
       "      <td>100028</td>\n",
       "      <td>316</td>\n",
       "      <td>81</td>\n",
       "      <td>8</td>\n",
       "      <td>2</td>\n",
       "    </tr>\n",
       "    <tr>\n",
       "      <th>1</th>\n",
       "      <td>100028</td>\n",
       "      <td>801</td>\n",
       "      <td>81</td>\n",
       "      <td>8</td>\n",
       "      <td>2</td>\n",
       "    </tr>\n",
       "    <tr>\n",
       "      <th>2</th>\n",
       "      <td>100028</td>\n",
       "      <td>902</td>\n",
       "      <td>81</td>\n",
       "      <td>6</td>\n",
       "      <td>2</td>\n",
       "    </tr>\n",
       "    <tr>\n",
       "      <th>3</th>\n",
       "      <td>100315</td>\n",
       "      <td>607</td>\n",
       "      <td>92</td>\n",
       "      <td>6</td>\n",
       "      <td>2</td>\n",
       "    </tr>\n",
       "    <tr>\n",
       "      <th>4</th>\n",
       "      <td>100511</td>\n",
       "      <td>611</td>\n",
       "      <td>81</td>\n",
       "      <td>8</td>\n",
       "      <td>2</td>\n",
       "    </tr>\n",
       "  </tbody>\n",
       "</table>\n",
       "</div>"
      ],
      "text/plain": [
       "   publicid  subjectv  otsbqulv  otsbgrdv  otsb5yrv\n",
       "0    100028       316        81         8         2\n",
       "1    100028       801        81         8         2\n",
       "2    100028       902        81         6         2\n",
       "3    100315       607        92         6         2\n",
       "4    100511       611        81         8         2"
      ]
     },
     "execution_count": 122,
     "metadata": {},
     "output_type": "execute_result"
    }
   ],
   "source": [
    "file3.head()"
   ]
  },
  {
   "cell_type": "code",
   "execution_count": 123,
   "metadata": {},
   "outputs": [
    {
     "data": {
      "text/html": [
       "<div>\n",
       "<style>\n",
       "    .dataframe thead tr:only-child th {\n",
       "        text-align: right;\n",
       "    }\n",
       "\n",
       "    .dataframe thead th {\n",
       "        text-align: left;\n",
       "    }\n",
       "\n",
       "    .dataframe tbody tr th {\n",
       "        vertical-align: top;\n",
       "    }\n",
       "</style>\n",
       "<table border=\"1\" class=\"dataframe\">\n",
       "  <thead>\n",
       "    <tr style=\"text-align: right;\">\n",
       "      <th></th>\n",
       "      <th>publicid</th>\n",
       "      <th>qualv</th>\n",
       "      <th>num5intv</th>\n",
       "      <th>plan6v</th>\n",
       "    </tr>\n",
       "  </thead>\n",
       "  <tbody>\n",
       "    <tr>\n",
       "      <th>0</th>\n",
       "      <td>100077</td>\n",
       "      <td>85</td>\n",
       "      <td>98</td>\n",
       "      <td>2</td>\n",
       "    </tr>\n",
       "    <tr>\n",
       "      <th>1</th>\n",
       "      <td>100077</td>\n",
       "      <td>86</td>\n",
       "      <td>98</td>\n",
       "      <td>1</td>\n",
       "    </tr>\n",
       "    <tr>\n",
       "      <th>2</th>\n",
       "      <td>100077</td>\n",
       "      <td>95</td>\n",
       "      <td>98</td>\n",
       "      <td>3</td>\n",
       "    </tr>\n",
       "    <tr>\n",
       "      <th>3</th>\n",
       "      <td>100091</td>\n",
       "      <td>75</td>\n",
       "      <td>98</td>\n",
       "      <td>1</td>\n",
       "    </tr>\n",
       "    <tr>\n",
       "      <th>4</th>\n",
       "      <td>100091</td>\n",
       "      <td>85</td>\n",
       "      <td>98</td>\n",
       "      <td>3</td>\n",
       "    </tr>\n",
       "  </tbody>\n",
       "</table>\n",
       "</div>"
      ],
      "text/plain": [
       "   publicid  qualv  num5intv  plan6v\n",
       "0    100077     85        98       2\n",
       "1    100077     86        98       1\n",
       "2    100077     95        98       3\n",
       "3    100091     75        98       1\n",
       "4    100091     85        98       3"
      ]
     },
     "execution_count": 123,
     "metadata": {},
     "output_type": "execute_result"
    }
   ],
   "source": [
    "file4.head()"
   ]
  },
  {
   "cell_type": "markdown",
   "metadata": {},
   "source": [
    "# How many brothers do you have?"
   ]
  },
  {
   "cell_type": "code",
   "execution_count": 124,
   "metadata": {},
   "outputs": [
    {
     "data": {
      "text/plain": [
       "(8076, 254)"
      ]
     },
     "execution_count": 124,
     "metadata": {},
     "output_type": "execute_result"
    }
   ],
   "source": [
    "data.shape"
   ]
  },
  {
   "cell_type": "code",
   "execution_count": 125,
   "metadata": {},
   "outputs": [],
   "source": [
    "data=data.loc[data['achievev']==1]"
   ]
  },
  {
   "cell_type": "code",
   "execution_count": 126,
   "metadata": {},
   "outputs": [
    {
     "data": {
      "text/plain": [
       "(6501, 254)"
      ]
     },
     "execution_count": 126,
     "metadata": {},
     "output_type": "execute_result"
    }
   ],
   "source": [
    "data.shape"
   ]
  },
  {
   "cell_type": "code",
   "execution_count": 127,
   "metadata": {},
   "outputs": [
    {
     "data": {
      "text/plain": [
       "array([ 2,  1,  0, 99,  3,  4,  5,  7,  6,  9,  8, 10])"
      ]
     },
     "execution_count": 127,
     "metadata": {},
     "output_type": "execute_result"
    }
   ],
   "source": [
    "data['brotherv'].unique()"
   ]
  },
  {
   "cell_type": "code",
   "execution_count": 128,
   "metadata": {},
   "outputs": [
    {
     "data": {
      "text/plain": [
       "1     2571\n",
       "0     1398\n",
       "2     1156\n",
       "99     774\n",
       "3      396\n",
       "4      124\n",
       "5       57\n",
       "6       13\n",
       "7        6\n",
       "10       2\n",
       "9        2\n",
       "8        2\n",
       "Name: brotherv, dtype: int64"
      ]
     },
     "execution_count": 128,
     "metadata": {},
     "output_type": "execute_result"
    }
   ],
   "source": [
    "data['brotherv'].value_counts()"
   ]
  },
  {
   "cell_type": "code",
   "execution_count": 129,
   "metadata": {},
   "outputs": [
    {
     "data": {
      "text/plain": [
       "<matplotlib.axes._subplots.AxesSubplot at 0x1a2d4a9518>"
      ]
     },
     "execution_count": 129,
     "metadata": {},
     "output_type": "execute_result"
    },
    {
     "data": {
      "image/png": "[encoded data removed]",
      "text/plain": [
       "<matplotlib.figure.Figure at 0x1a2cdb4c50>"
      ]
     },
     "metadata": {},
     "output_type": "display_data"
    }
   ],
   "source": [
    "sns.countplot(x='brotherv',data=data)"
   ]
  },
  {
   "cell_type": "code",
   "execution_count": 130,
   "metadata": {
    "collapsed": true
   },
   "outputs": [],
   "source": [
    "#show people who answer this question\n",
    "data_brother=data.loc[data['brotherv']!=99]"
   ]
  },
  {
   "cell_type": "code",
   "execution_count": 131,
   "metadata": {},
   "outputs": [
    {
     "data": {
      "text/plain": [
       "<matplotlib.axes._subplots.AxesSubplot at 0x1a2d4c4128>"
      ]
     },
     "execution_count": 131,
     "metadata": {},
     "output_type": "execute_result"
    },
    {
     "data": {
      "image/png": "[encoded data removed]",
      "text/plain": [
       "<matplotlib.figure.Figure at 0x1a2d626da0>"
      ]
     },
     "metadata": {},
     "output_type": "display_data"
    }
   ],
   "source": [
    "sns.countplot(x='brotherv',data=data_brother)"
   ]
  },
  {
   "cell_type": "code",
   "execution_count": 132,
   "metadata": {},
   "outputs": [
    {
     "data": {
      "text/plain": [
       "<matplotlib.axes._subplots.AxesSubplot at 0x11711cf60>"
      ]
     },
     "execution_count": 132,
     "metadata": {},
     "output_type": "execute_result"
    },
    {
     "data": {
      "image/png": "[encoded data removed]",
      "text/plain": [
       "<matplotlib.figure.Figure at 0x1a253f9b38>"
      ]
     },
     "metadata": {},
     "output_type": "display_data"
    }
   ],
   "source": [
    "sns.stripplot(x='questv',y='brotherv',data=data_brother,jitter=True,palette=\"Set2\")"
   ]
  },
  {
   "cell_type": "markdown",
   "metadata": {},
   "source": [
    "# How many sisters do you have?"
   ]
  },
  {
   "cell_type": "code",
   "execution_count": 133,
   "metadata": {},
   "outputs": [
    {
     "data": {
      "text/plain": [
       "array([ 2,  1,  0,  3, 99,  4,  6,  5,  7,  8])"
      ]
     },
     "execution_count": 133,
     "metadata": {},
     "output_type": "execute_result"
    }
   ],
   "source": [
    "data['sistersv'].unique()"
   ]
  },
  {
   "cell_type": "code",
   "execution_count": 134,
   "metadata": {},
   "outputs": [
    {
     "data": {
      "text/plain": [
       "1     2525\n",
       "0     1624\n",
       "2     1096\n",
       "99     721\n",
       "3      364\n",
       "4      105\n",
       "5       39\n",
       "6       19\n",
       "7        4\n",
       "8        4\n",
       "Name: sistersv, dtype: int64"
      ]
     },
     "execution_count": 134,
     "metadata": {},
     "output_type": "execute_result"
    }
   ],
   "source": [
    "data['sistersv'].value_counts()"
   ]
  },
  {
   "cell_type": "code",
   "execution_count": 135,
   "metadata": {},
   "outputs": [
    {
     "data": {
      "text/plain": [
       "<matplotlib.axes._subplots.AxesSubplot at 0x1171cfe80>"
      ]
     },
     "execution_count": 135,
     "metadata": {},
     "output_type": "execute_result"
    },
    {
     "data": {
      "image/png": "[encoded data removed]",
      "text/plain": [
       "<matplotlib.figure.Figure at 0x1a2d739710>"
      ]
     },
     "metadata": {},
     "output_type": "display_data"
    }
   ],
   "source": [
    "sns.countplot(x='sistersv',data=data)"
   ]
  },
  {
   "cell_type": "code",
   "execution_count": 136,
   "metadata": {
    "collapsed": true
   },
   "outputs": [],
   "source": [
    "#show people who answer this question\n",
    "data_sister=data.loc[data['sistersv']!=99]"
   ]
  },
  {
   "cell_type": "code",
   "execution_count": 137,
   "metadata": {},
   "outputs": [
    {
     "data": {
      "text/plain": [
       "<matplotlib.axes._subplots.AxesSubplot at 0x1a254ab588>"
      ]
     },
     "execution_count": 137,
     "metadata": {},
     "output_type": "execute_result"
    },
    {
     "data": {
      "image/png": "[encoded data removed]",
      "text/plain": [
       "<matplotlib.figure.Figure at 0x1a2d620e48>"
      ]
     },
     "metadata": {},
     "output_type": "display_data"
    }
   ],
   "source": [
    "sns.countplot(x='sistersv',data=data_sister)"
   ]
  },
  {
   "cell_type": "code",
   "execution_count": 138,
   "metadata": {},
   "outputs": [
    {
     "data": {
      "text/plain": [
       "<matplotlib.axes._subplots.AxesSubplot at 0x117188a58>"
      ]
     },
     "execution_count": 138,
     "metadata": {},
     "output_type": "execute_result"
    },
    {
     "data": {
      "image/png": "[encoded data removed]",
      "text/plain": [
       "<matplotlib.figure.Figure at 0x1a254f2a90>"
      ]
     },
     "metadata": {},
     "output_type": "display_data"
    }
   ],
   "source": [
    "sns.stripplot(x='questv',y='sistersv',data=data_sister,jitter=True,palette=\"Set2\")"
   ]
  },
  {
   "cell_type": "markdown",
   "metadata": {},
   "source": [
    "# In your fourth year, who did you usually stay with during the school week?"
   ]
  },
  {
   "cell_type": "code",
   "execution_count": 139,
   "metadata": {},
   "outputs": [
    {
     "data": {
      "text/plain": [
       "array([ 1,  2,  4, 99,  8,  5,  3,  7,  6])"
      ]
     },
     "execution_count": 139,
     "metadata": {},
     "output_type": "execute_result"
    }
   ],
   "source": [
    "data['staywkv'].unique()"
   ]
  },
  {
   "cell_type": "code",
   "execution_count": 140,
   "metadata": {},
   "outputs": [
    {
     "data": {
      "text/plain": [
       "1     5065\n",
       "4      657\n",
       "2      252\n",
       "5      140\n",
       "99     138\n",
       "8      109\n",
       "6       58\n",
       "3       51\n",
       "7       31\n",
       "Name: staywkv, dtype: int64"
      ]
     },
     "execution_count": 140,
     "metadata": {},
     "output_type": "execute_result"
    }
   ],
   "source": [
    "data['staywkv'].value_counts()"
   ]
  },
  {
   "cell_type": "code",
   "execution_count": 141,
   "metadata": {
    "collapsed": true
   },
   "outputs": [],
   "source": [
    "#show people who answer this question\n",
    "data_staywith=data.loc[data['staywkv']!=99]"
   ]
  },
  {
   "cell_type": "code",
   "execution_count": 142,
   "metadata": {},
   "outputs": [
    {
     "data": {
      "text/plain": [
       "1    5065\n",
       "4     657\n",
       "2     252\n",
       "5     140\n",
       "8     109\n",
       "6      58\n",
       "3      51\n",
       "7      31\n",
       "Name: staywkv, dtype: int64"
      ]
     },
     "execution_count": 142,
     "metadata": {},
     "output_type": "execute_result"
    }
   ],
   "source": [
    "data_staywith['staywkv'].value_counts()\n",
    "#1- mother and father\n",
    "#2-mother and step-father\n",
    "#3-father and step-mother\n",
    "#4-mother only\n",
    "#5-father only\n",
    "#6-boarding school\n",
    "#7-school hostel\n",
    "#8-other"
   ]
  },
  {
   "cell_type": "code",
   "execution_count": 143,
   "metadata": {},
   "outputs": [
    {
     "data": {
      "image/png": "[encoded data removed]",
      "text/plain": [
       "<matplotlib.figure.Figure at 0x1a25246748>"
      ]
     },
     "metadata": {},
     "output_type": "display_data"
    }
   ],
   "source": [
    "plt.figure(figsize=(6,9))\n",
    "\n",
    "labels = [1,4,2,5,8,6,3,7]\n",
    "sizes = [5065,657,252,140,109,58,51,31]\n",
    "colors = ['red','yellow','green','blue', 'purple','skyblue','pink','grey']\n",
    "explode = (0,0,0,0,0,0,0,0)\n",
    "\n",
    "patches,l_text,p_text = plt.pie(sizes,explode=explode,labels=labels,colors=colors, labeldistance = 1.1,autopct = '%3.1f%%',shadow = False, startangle = 0,pctdistance = 0.6)\n",
    "\n",
    "for t in l_text:\n",
    "    t.set_size(20)\n",
    "for t in p_text:\n",
    "    t.set_size(15)\n",
    "    \n",
    "plt.axis('equal')\n",
    "plt.legend(loc='upper left', bbox_to_anchor=(-0.1, 1))\n",
    "plt.grid()\n",
    "plt.show()\n"
   ]
  },
  {
   "cell_type": "markdown",
   "metadata": {},
   "source": [
    "# Who do you stay with now?"
   ]
  },
  {
   "cell_type": "code",
   "execution_count": 144,
   "metadata": {},
   "outputs": [
    {
     "data": {
      "text/plain": [
       "array([ 1,  8,  5,  2,  4, 99,  3,  7,  6])"
      ]
     },
     "execution_count": 144,
     "metadata": {},
     "output_type": "execute_result"
    }
   ],
   "source": [
    "data['staynowv'].unique()"
   ]
  },
  {
   "cell_type": "code",
   "execution_count": 145,
   "metadata": {},
   "outputs": [
    {
     "data": {
      "text/plain": [
       "1     4749\n",
       "4      702\n",
       "99     326\n",
       "2      242\n",
       "8      206\n",
       "5      146\n",
       "6       53\n",
       "3       50\n",
       "7       27\n",
       "Name: staynowv, dtype: int64"
      ]
     },
     "execution_count": 145,
     "metadata": {},
     "output_type": "execute_result"
    }
   ],
   "source": [
    "data['staynowv'].value_counts()"
   ]
  },
  {
   "cell_type": "code",
   "execution_count": 146,
   "metadata": {
    "collapsed": true
   },
   "outputs": [],
   "source": [
    "#show people who answer this question\n",
    "data_staynow=data.loc[data['staynowv']!=99]"
   ]
  },
  {
   "cell_type": "code",
   "execution_count": 147,
   "metadata": {},
   "outputs": [
    {
     "data": {
      "text/plain": [
       "1    4749\n",
       "4     702\n",
       "2     242\n",
       "8     206\n",
       "5     146\n",
       "6      53\n",
       "3      50\n",
       "7      27\n",
       "Name: staynowv, dtype: int64"
      ]
     },
     "execution_count": 147,
     "metadata": {},
     "output_type": "execute_result"
    }
   ],
   "source": [
    "data_staynow['staynowv'].value_counts()"
   ]
  },
  {
   "cell_type": "code",
   "execution_count": 148,
   "metadata": {},
   "outputs": [
    {
     "data": {
      "image/png": "[encoded data removed]",
      "text/plain": [
       "<matplotlib.figure.Figure at 0x1a2564d898>"
      ]
     },
     "metadata": {},
     "output_type": "display_data"
    }
   ],
   "source": [
    "plt.figure(figsize=(6,9))\n",
    "\n",
    "labels = [1,4,2,5,8,6,3,7]\n",
    "sizes = [4749,702,242,206,146,53,50,27]\n",
    "colors = ['red','yellow','green','blue', 'purple','skyblue','pink','grey']\n",
    "explode = (0,0,0,0,0,0,0,0)\n",
    "\n",
    "patches,l_text,p_text = plt.pie(sizes,explode=explode,labels=labels,colors=colors, labeldistance = 1.1,autopct = '%3.1f%%',shadow = False, startangle = 0,pctdistance = 0.6)\n",
    "\n",
    "for t in l_text:\n",
    "    t.set_size(20)\n",
    "for t in p_text:\n",
    "    t.set_size(15)\n",
    "    \n",
    "plt.axis('equal')\n",
    "plt.legend(loc='upper left', bbox_to_anchor=(-0.1, 1))\n",
    "plt.grid()\n",
    "plt.show()"
   ]
  },
  {
   "cell_type": "markdown",
   "metadata": {},
   "source": [
    "# (意义不大)How much you give toward board and keep last week？"
   ]
  },
  {
   "cell_type": "code",
   "execution_count": 149,
   "metadata": {},
   "outputs": [
    {
     "data": {
      "text/plain": [
       "array([99999,  1000,  2000,     0,  1500,   700,   500,  1200,   850,\n",
       "        1700,   600,  1400,   900,   800,  1750,  1650,  8000,   980,\n",
       "         635,  4000,   750,  1250,   720,  1600,  2400,  2250,  1100,\n",
       "        1820,   625,   560,  6300,  2500,  2200,  1300,  1800,   575,\n",
       "        1849,   650,  1375,  3000,  2100,  2460,  3700,   875,  1330,\n",
       "        4050,  1150,   975,   100,   300,  1050,  1225, 10000,   825,\n",
       "        1883,  1900,  2799,  1125,  1550,  2045,  1510,   400,    85,\n",
       "        5000,  1038,   212,  5473,  2125,   200, 11200,  1460,  5254,\n",
       "         830,  3500,  2600,  1785,  2300,  1060,  1841,  3200,    15,\n",
       "        4500,   415,   350,   310,  3100,  3846,  3460,  1530,  1741,\n",
       "        1730,   550,  1320,  1025,  1001,  1306,  3360,  1659,   730,\n",
       "        4200,  1221,   680,   725,   685,  1542,   315,  1948,  1480,\n",
       "        1030,  5160,   450,   150])"
      ]
     },
     "execution_count": 149,
     "metadata": {},
     "output_type": "execute_result"
    }
   ],
   "source": [
    "data['givkeepv'].unique()"
   ]
  },
  {
   "cell_type": "code",
   "execution_count": 150,
   "metadata": {},
   "outputs": [
    {
     "data": {
      "text/plain": [
       "0        3391\n",
       "1000     1340\n",
       "1500      403\n",
       "99999     298\n",
       "500       255\n",
       "2000      103\n",
       "1200      101\n",
       "700        97\n",
       "800        89\n",
       "600        40\n",
       "1300       37\n",
       "750        36\n",
       "2500       18\n",
       "1250       18\n",
       "1100       17\n",
       "650        15\n",
       "1800       15\n",
       "1400       15\n",
       "1600       15\n",
       "900        14\n",
       "1700       12\n",
       "3000       12\n",
       "850        10\n",
       "300         9\n",
       "625         6\n",
       "3500        5\n",
       "1650        5\n",
       "400         5\n",
       "1550        4\n",
       "875         4\n",
       "         ... \n",
       "1025        1\n",
       "150         1\n",
       "1849        1\n",
       "1841        1\n",
       "1785        1\n",
       "1741        1\n",
       "3700        1\n",
       "310         1\n",
       "350         1\n",
       "3360        1\n",
       "1883        1\n",
       "1221        1\n",
       "3200        1\n",
       "1125        1\n",
       "1001        1\n",
       "2045        1\n",
       "11200       1\n",
       "450         1\n",
       "825         1\n",
       "725         1\n",
       "685         1\n",
       "550         1\n",
       "2799        1\n",
       "2460        1\n",
       "830         1\n",
       "1030        1\n",
       "85          1\n",
       "1038        1\n",
       "1050        1\n",
       "4050        1\n",
       "Name: givkeepv, Length: 112, dtype: int64"
      ]
     },
     "execution_count": 150,
     "metadata": {},
     "output_type": "execute_result"
    }
   ],
   "source": [
    "data['givkeepv'].value_counts()"
   ]
  },
  {
   "cell_type": "code",
   "execution_count": 151,
   "metadata": {
    "collapsed": true
   },
   "outputs": [],
   "source": [
    "#show people who answer this question\n",
    "data_digmoney=data.loc[data['givkeepv']!=99999]"
   ]
  },
  {
   "cell_type": "code",
   "execution_count": 152,
   "metadata": {},
   "outputs": [
    {
     "data": {
      "text/plain": [
       "0        3391\n",
       "1000     1340\n",
       "1500      403\n",
       "500       255\n",
       "2000      103\n",
       "1200      101\n",
       "700        97\n",
       "800        89\n",
       "600        40\n",
       "1300       37\n",
       "750        36\n",
       "1250       18\n",
       "2500       18\n",
       "1100       17\n",
       "1400       15\n",
       "1800       15\n",
       "1600       15\n",
       "650        15\n",
       "900        14\n",
       "1700       12\n",
       "3000       12\n",
       "850        10\n",
       "300         9\n",
       "625         6\n",
       "3500        5\n",
       "1650        5\n",
       "400         5\n",
       "1550        4\n",
       "875         4\n",
       "100         4\n",
       "         ... \n",
       "1025        1\n",
       "150         1\n",
       "1849        1\n",
       "1841        1\n",
       "1785        1\n",
       "1741        1\n",
       "3700        1\n",
       "310         1\n",
       "350         1\n",
       "3360        1\n",
       "1883        1\n",
       "1221        1\n",
       "3200        1\n",
       "1125        1\n",
       "1001        1\n",
       "2045        1\n",
       "11200       1\n",
       "450         1\n",
       "825         1\n",
       "725         1\n",
       "685         1\n",
       "550         1\n",
       "2799        1\n",
       "2460        1\n",
       "830         1\n",
       "1030        1\n",
       "85          1\n",
       "1038        1\n",
       "1050        1\n",
       "4050        1\n",
       "Name: givkeepv, Length: 111, dtype: int64"
      ]
     },
     "execution_count": 152,
     "metadata": {},
     "output_type": "execute_result"
    }
   ],
   "source": [
    "data_digmoney['givkeepv'].value_counts()"
   ]
  },
  {
   "cell_type": "markdown",
   "metadata": {},
   "source": [
    "# father and mother current job"
   ]
  },
  {
   "cell_type": "code",
   "execution_count": 153,
   "metadata": {
    "collapsed": true
   },
   "outputs": [],
   "source": [
    "#1- full-time paid employment\n",
    "#2- part-time paid employment\n",
    "#3- unemployed and looking for work\n",
    "#4- retired\n",
    "#5- full-time working at home\n",
    "#6- unable to work, eg, disabled\n",
    "#7- dead\n",
    "#8- don't know\n"
   ]
  },
  {
   "cell_type": "code",
   "execution_count": 154,
   "metadata": {},
   "outputs": [
    {
     "data": {
      "text/plain": [
       "array([ 5,  2,  1, 99,  4,  6,  3,  8,  7])"
      ]
     },
     "execution_count": 154,
     "metadata": {},
     "output_type": "execute_result"
    }
   ],
   "source": [
    "data['mumnowv'].unique()"
   ]
  },
  {
   "cell_type": "code",
   "execution_count": 155,
   "metadata": {},
   "outputs": [
    {
     "data": {
      "text/plain": [
       "2     1945\n",
       "1     1883\n",
       "5     1555\n",
       "3      399\n",
       "99     307\n",
       "6      179\n",
       "7      103\n",
       "8       77\n",
       "4       53\n",
       "Name: mumnowv, dtype: int64"
      ]
     },
     "execution_count": 155,
     "metadata": {},
     "output_type": "execute_result"
    }
   ],
   "source": [
    "data['mumnowv'].value_counts()"
   ]
  },
  {
   "cell_type": "code",
   "execution_count": 156,
   "metadata": {
    "collapsed": true
   },
   "outputs": [],
   "source": [
    "#show people who answer this question\n",
    "data_momworknow=data.loc[data['mumnowv']!=99]\n",
    "data_momworknow=data_momworknow.loc[data_momworknow['mumnowv']!=8]"
   ]
  },
  {
   "cell_type": "code",
   "execution_count": 157,
   "metadata": {},
   "outputs": [
    {
     "data": {
      "text/plain": [
       "2    1945\n",
       "1    1883\n",
       "5    1555\n",
       "3     399\n",
       "6     179\n",
       "7     103\n",
       "4      53\n",
       "Name: mumnowv, dtype: int64"
      ]
     },
     "execution_count": 157,
     "metadata": {},
     "output_type": "execute_result"
    }
   ],
   "source": [
    "data_momworknow['mumnowv'].value_counts()"
   ]
  },
  {
   "cell_type": "code",
   "execution_count": 158,
   "metadata": {},
   "outputs": [
    {
     "data": {
      "text/plain": [
       "<matplotlib.axes._subplots.AxesSubplot at 0x1a254ebd68>"
      ]
     },
     "execution_count": 158,
     "metadata": {},
     "output_type": "execute_result"
    },
    {
     "data": {
      "image/png": "[encoded data removed]",
      "text/plain": [
       "<matplotlib.figure.Figure at 0x1a227319e8>"
      ]
     },
     "metadata": {},
     "output_type": "display_data"
    }
   ],
   "source": [
    "sns.countplot(x='mumnowv',data=data_momworknow)"
   ]
  },
  {
   "cell_type": "code",
   "execution_count": 159,
   "metadata": {},
   "outputs": [
    {
     "data": {
      "text/plain": [
       "array([ 1,  4, 99,  7,  6,  5,  3,  8,  2])"
      ]
     },
     "execution_count": 159,
     "metadata": {},
     "output_type": "execute_result"
    }
   ],
   "source": [
    "data['dadnowv'].unique()"
   ]
  },
  {
   "cell_type": "code",
   "execution_count": 160,
   "metadata": {},
   "outputs": [
    {
     "data": {
      "text/plain": [
       "1     4678\n",
       "3      605\n",
       "99     347\n",
       "6      229\n",
       "7      226\n",
       "8      159\n",
       "4      149\n",
       "2       60\n",
       "5       48\n",
       "Name: dadnowv, dtype: int64"
      ]
     },
     "execution_count": 160,
     "metadata": {},
     "output_type": "execute_result"
    }
   ],
   "source": [
    "data['dadnowv'].value_counts()"
   ]
  },
  {
   "cell_type": "code",
   "execution_count": 161,
   "metadata": {},
   "outputs": [
    {
     "data": {
      "text/plain": [
       "<matplotlib.axes._subplots.AxesSubplot at 0x1a2acef668>"
      ]
     },
     "execution_count": 161,
     "metadata": {},
     "output_type": "execute_result"
    },
    {
     "data": {
      "image/png": "[encoded data removed]",
      "text/plain": [
       "<matplotlib.figure.Figure at 0x1a2acc5518>"
      ]
     },
     "metadata": {},
     "output_type": "display_data"
    }
   ],
   "source": [
    "#show people who answer this question\n",
    "data_dadworknow=data.loc[data['dadnowv']!=99]\n",
    "data_dadworknow=data_dadworknow.loc[data_dadworknow['dadnowv']!=8]\n",
    "sns.countplot(x='dadnowv',data=data_dadworknow)"
   ]
  },
  {
   "cell_type": "markdown",
   "metadata": {},
   "source": [
    "# types of parent's job(具体的含义不明 建议舍弃)"
   ]
  },
  {
   "cell_type": "code",
   "execution_count": 162,
   "metadata": {},
   "outputs": [
    {
     "data": {
      "text/plain": [
       "array([  9,   6,   5, 999,   1,   4,   3,   2])"
      ]
     },
     "execution_count": 162,
     "metadata": {},
     "output_type": "execute_result"
    }
   ],
   "source": [
    "data['mumjob1v'].unique()"
   ]
  },
  {
   "cell_type": "code",
   "execution_count": 163,
   "metadata": {},
   "outputs": [
    {
     "data": {
      "text/plain": [
       "6      3909\n",
       "9      1244\n",
       "999     786\n",
       "1       234\n",
       "5       159\n",
       "4       158\n",
       "3        10\n",
       "2         1\n",
       "Name: mumjob1v, dtype: int64"
      ]
     },
     "execution_count": 163,
     "metadata": {},
     "output_type": "execute_result"
    }
   ],
   "source": [
    "data['mumjob1v'].value_counts()"
   ]
  },
  {
   "cell_type": "code",
   "execution_count": 164,
   "metadata": {
    "collapsed": true
   },
   "outputs": [],
   "source": [
    "#1- self-employed\n",
    "#2- YTS mode unkonwn\n",
    "#3- dirs,chairs, partnrs\n",
    "#4- mngrs,cos,heads\n",
    "#5- foremen,supvrs,ncos\n",
    "#6- empees+ & apprents\n",
    "#7 YTS non work-based\n",
    "#8- YTS work-based\n",
    "#9- F-T work at home"
   ]
  },
  {
   "cell_type": "code",
   "execution_count": 165,
   "metadata": {},
   "outputs": [
    {
     "data": {
      "text/plain": [
       "<matplotlib.axes._subplots.AxesSubplot at 0x1a2ad16c88>"
      ]
     },
     "execution_count": 165,
     "metadata": {},
     "output_type": "execute_result"
    },
    {
     "data": {
      "image/png": "[encoded data removed]",
      "text/plain": [
       "<matplotlib.figure.Figure at 0x1a2ab5e3c8>"
      ]
     },
     "metadata": {},
     "output_type": "display_data"
    }
   ],
   "source": [
    "#show people who answer this question\n",
    "data_momtype=data.loc[data['mumjob1v']!=999]\n",
    "sns.countplot(x='mumjob1v',data=data_momtype)"
   ]
  },
  {
   "cell_type": "code",
   "execution_count": 166,
   "metadata": {},
   "outputs": [
    {
     "data": {
      "text/plain": [
       "array([  6,   4,   1, 999,   5,   3,   9,   2])"
      ]
     },
     "execution_count": 166,
     "metadata": {},
     "output_type": "execute_result"
    }
   ],
   "source": [
    "data['dadjob1v'].unique()"
   ]
  },
  {
   "cell_type": "code",
   "execution_count": 167,
   "metadata": {},
   "outputs": [
    {
     "data": {
      "text/plain": [
       "6      3516\n",
       "999    1032\n",
       "1       817\n",
       "4       597\n",
       "5       450\n",
       "3        72\n",
       "9        16\n",
       "2         1\n",
       "Name: dadjob1v, dtype: int64"
      ]
     },
     "execution_count": 167,
     "metadata": {},
     "output_type": "execute_result"
    }
   ],
   "source": [
    "data['dadjob1v'].value_counts()"
   ]
  },
  {
   "cell_type": "code",
   "execution_count": 168,
   "metadata": {},
   "outputs": [
    {
     "data": {
      "text/plain": [
       "<matplotlib.axes._subplots.AxesSubplot at 0x1a2af7d048>"
      ]
     },
     "execution_count": 168,
     "metadata": {},
     "output_type": "execute_result"
    },
    {
     "data": {
      "image/png": "[encoded data removed]",
      "text/plain": [
       "<matplotlib.figure.Figure at 0x1a2adfd4e0>"
      ]
     },
     "metadata": {},
     "output_type": "display_data"
    }
   ],
   "source": [
    "#show people who answer this question\n",
    "data_dadtype=data.loc[data['dadjob1v']!=999]\n",
    "sns.countplot(x='dadjob1v',data=data_dadtype)"
   ]
  },
  {
   "cell_type": "markdown",
   "metadata": {},
   "source": [
    "# How old were you father or mother left school?"
   ]
  },
  {
   "cell_type": "code",
   "execution_count": 169,
   "metadata": {
    "collapsed": true
   },
   "outputs": [],
   "source": [
    "#1- 15 years old or less\n",
    "#2- 16 years old\n",
    "#3- 17 years old or more\n",
    "#4- don't know"
   ]
  },
  {
   "cell_type": "code",
   "execution_count": 170,
   "metadata": {},
   "outputs": [
    {
     "data": {
      "text/plain": [
       "array([ 1,  4,  3, 99,  2])"
      ]
     },
     "execution_count": 170,
     "metadata": {},
     "output_type": "execute_result"
    }
   ],
   "source": [
    "data['mumschlv'].unique()"
   ]
  },
  {
   "cell_type": "code",
   "execution_count": 171,
   "metadata": {},
   "outputs": [
    {
     "data": {
      "text/plain": [
       "1     3909\n",
       "2     1051\n",
       "3      692\n",
       "4      598\n",
       "99     251\n",
       "Name: mumschlv, dtype: int64"
      ]
     },
     "execution_count": 171,
     "metadata": {},
     "output_type": "execute_result"
    }
   ],
   "source": [
    "data['mumschlv'].value_counts()"
   ]
  },
  {
   "cell_type": "code",
   "execution_count": 172,
   "metadata": {},
   "outputs": [
    {
     "data": {
      "text/plain": [
       "<matplotlib.axes._subplots.AxesSubplot at 0x1a2b04a978>"
      ]
     },
     "execution_count": 172,
     "metadata": {},
     "output_type": "execute_result"
    },
    {
     "data": {
      "image/png": "[encoded data removed]",
      "text/plain": [
       "<matplotlib.figure.Figure at 0x1a2b0de748>"
      ]
     },
     "metadata": {},
     "output_type": "display_data"
    }
   ],
   "source": [
    "#show people who answer this question\n",
    "data_momleftsch=data.loc[data['mumschlv']!=99]\n",
    "data_momleftsch=data_momleftsch.loc[data_momleftsch['mumschlv']!=4]\n",
    "sns.countplot(x='mumschlv',data=data_momleftsch)"
   ]
  },
  {
   "cell_type": "code",
   "execution_count": 173,
   "metadata": {},
   "outputs": [
    {
     "data": {
      "text/plain": [
       "array([ 1,  2,  4,  3, 99])"
      ]
     },
     "execution_count": 173,
     "metadata": {},
     "output_type": "execute_result"
    }
   ],
   "source": [
    "data['dadschlv'].unique()"
   ]
  },
  {
   "cell_type": "code",
   "execution_count": 174,
   "metadata": {},
   "outputs": [
    {
     "data": {
      "text/plain": [
       "1     3972\n",
       "2      755\n",
       "3      705\n",
       "4      655\n",
       "99     414\n",
       "Name: dadschlv, dtype: int64"
      ]
     },
     "execution_count": 174,
     "metadata": {},
     "output_type": "execute_result"
    }
   ],
   "source": [
    "data['dadschlv'].value_counts()"
   ]
  },
  {
   "cell_type": "code",
   "execution_count": 175,
   "metadata": {},
   "outputs": [
    {
     "data": {
      "text/plain": [
       "<matplotlib.axes._subplots.AxesSubplot at 0x1a2b198898>"
      ]
     },
     "execution_count": 175,
     "metadata": {},
     "output_type": "execute_result"
    },
    {
     "data": {
      "image/png": "[encoded data removed]",
      "text/plain": [
       "<matplotlib.figure.Figure at 0x1a2af63e48>"
      ]
     },
     "metadata": {},
     "output_type": "display_data"
    }
   ],
   "source": [
    "#show people who answer this question\n",
    "data_dadleftsch=data.loc[data['dadschlv']!=99]\n",
    "data_dadleftsch=data_dadleftsch.loc[data_dadleftsch['dadschlv']!=4]\n",
    "sns.countplot(x='dadschlv',data=data_dadleftsch)"
   ]
  },
  {
   "cell_type": "markdown",
   "metadata": {},
   "source": [
    "# (sex包含了问卷和没有填写的，数据不准)sex"
   ]
  },
  {
   "cell_type": "code",
   "execution_count": 176,
   "metadata": {},
   "outputs": [
    {
     "data": {
      "text/plain": [
       "array([1, 2])"
      ]
     },
     "execution_count": 176,
     "metadata": {},
     "output_type": "execute_result"
    }
   ],
   "source": [
    "data['sex'].unique()"
   ]
  },
  {
   "cell_type": "code",
   "execution_count": 177,
   "metadata": {},
   "outputs": [
    {
     "data": {
      "text/plain": [
       "<matplotlib.axes._subplots.AxesSubplot at 0x1a2b3d2048>"
      ]
     },
     "execution_count": 177,
     "metadata": {},
     "output_type": "execute_result"
    },
    {
     "data": {
      "image/png": "[encoded data removed]",
      "text/plain": [
       "<matplotlib.figure.Figure at 0x1a2b0dea58>"
      ]
     },
     "metadata": {},
     "output_type": "display_data"
    }
   ],
   "source": [
    "sns.countplot(x='sex',data=data)"
   ]
  },
  {
   "cell_type": "markdown",
   "metadata": {},
   "source": [
    "# born(don't calculate month)"
   ]
  },
  {
   "cell_type": "code",
   "execution_count": 178,
   "metadata": {},
   "outputs": [
    {
     "data": {
      "text/plain": [
       "array([68, 69, 67, 63, 65, 66])"
      ]
     },
     "execution_count": 178,
     "metadata": {},
     "output_type": "execute_result"
    }
   ],
   "source": [
    "data['yearb'].unique()"
   ]
  },
  {
   "cell_type": "code",
   "execution_count": 179,
   "metadata": {},
   "outputs": [
    {
     "data": {
      "text/plain": [
       "68    5721\n",
       "69     512\n",
       "67     264\n",
       "65       2\n",
       "63       1\n",
       "66       1\n",
       "Name: yearb, dtype: int64"
      ]
     },
     "execution_count": 179,
     "metadata": {},
     "output_type": "execute_result"
    }
   ],
   "source": [
    "data['yearb'].value_counts()"
   ]
  },
  {
   "cell_type": "code",
   "execution_count": 180,
   "metadata": {},
   "outputs": [
    {
     "data": {
      "text/plain": [
       "<matplotlib.axes._subplots.AxesSubplot at 0x1a2b4f2908>"
      ]
     },
     "execution_count": 180,
     "metadata": {},
     "output_type": "execute_result"
    },
    {
     "data": {
      "image/png": "[encoded data removed]",
      "text/plain": [
       "<matplotlib.figure.Figure at 0x1a264a94e0>"
      ]
     },
     "metadata": {},
     "output_type": "display_data"
    }
   ],
   "source": [
    "sns.countplot(x='yearb',data=data)"
   ]
  }
 ],
 "metadata": {
  "kernelspec": {
   "display_name": "Python 3",
   "language": "python",
   "name": "python3"
  },
  "language_info": {
   "codemirror_mode": {
    "name": "ipython",
    "version": 3
   },
   "file_extension": ".py",
   "mimetype": "text/x-python",
   "name": "python",
   "nbconvert_exporter": "python",
   "pygments_lexer": "ipython3",
   "version": "3.6.2"
  }
 },
 "nbformat": 4,
 "nbformat_minor": 2
}
